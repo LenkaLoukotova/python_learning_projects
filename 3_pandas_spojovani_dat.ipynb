{
 "cells": [
  {
   "attachments": {},
   "cell_type": "markdown",
   "metadata": {},
   "source": [
    "**a.** Načetla jsem soubory csv ze stránek kodim.cz a spojila načtené soubory do jednoho."
   ]
  },
  {
   "cell_type": "code",
   "execution_count": 9,
   "metadata": {},
   "outputs": [],
   "source": [
    "import pandas\n",
    "\n",
    "jmena = pandas.read_csv(\"https://kodim.cz/cms/assets/kurzy/python-data-1/python-pro-data-1/agregace-a-spojovani/excs/excs>studenti/jmena.csv\")\n",
    "s1 = pandas.read_csv(\"https://kodim.cz/cms/assets/kurzy/python-data-1/python-pro-data-1/agregace-a-spojovani/excs/excs>studenti/studenti1.csv\")\n",
    "s2 = pandas.read_csv(\"https://kodim.cz/cms/assets/kurzy/python-data-1/python-pro-data-1/agregace-a-spojovani/excs/excs>studenti/studenti2.csv\")\n"
   ]
  },
  {
   "cell_type": "code",
   "execution_count": 10,
   "metadata": {},
   "outputs": [
    {
     "data": {
      "text/html": [
       "<div>\n",
       "<style scoped>\n",
       "    .dataframe tbody tr th:only-of-type {\n",
       "        vertical-align: middle;\n",
       "    }\n",
       "\n",
       "    .dataframe tbody tr th {\n",
       "        vertical-align: top;\n",
       "    }\n",
       "\n",
       "    .dataframe thead th {\n",
       "        text-align: right;\n",
       "    }\n",
       "</style>\n",
       "<table border=\"1\" class=\"dataframe\">\n",
       "  <thead>\n",
       "    <tr style=\"text-align: right;\">\n",
       "      <th></th>\n",
       "      <th>jméno</th>\n",
       "      <th>příjmení</th>\n",
       "      <th>obor</th>\n",
       "      <th>ročník</th>\n",
       "      <th>kruh</th>\n",
       "      <th>prospěch</th>\n",
       "    </tr>\n",
       "  </thead>\n",
       "  <tbody>\n",
       "    <tr>\n",
       "      <th>0</th>\n",
       "      <td>Ludmila</td>\n",
       "      <td>Šindlerová</td>\n",
       "      <td>informatika a management</td>\n",
       "      <td>4.0</td>\n",
       "      <td>11.0</td>\n",
       "      <td>2.49</td>\n",
       "    </tr>\n",
       "    <tr>\n",
       "      <th>1</th>\n",
       "      <td>Jan</td>\n",
       "      <td>Pekárek</td>\n",
       "      <td>softwarové inženýrství</td>\n",
       "      <td>1.0</td>\n",
       "      <td>7.0</td>\n",
       "      <td>1.05</td>\n",
       "    </tr>\n",
       "    <tr>\n",
       "      <th>2</th>\n",
       "      <td>Milan</td>\n",
       "      <td>Weiss</td>\n",
       "      <td>počítačová grafika</td>\n",
       "      <td>5.0</td>\n",
       "      <td>11.0</td>\n",
       "      <td>2.62</td>\n",
       "    </tr>\n",
       "    <tr>\n",
       "      <th>3</th>\n",
       "      <td>Jiřina</td>\n",
       "      <td>Petrová</td>\n",
       "      <td>správa IT systémů</td>\n",
       "      <td>4.0</td>\n",
       "      <td>1.0</td>\n",
       "      <td>1.15</td>\n",
       "    </tr>\n",
       "    <tr>\n",
       "      <th>4</th>\n",
       "      <td>Josef</td>\n",
       "      <td>Navrátil</td>\n",
       "      <td>číslicová technika</td>\n",
       "      <td>5.0</td>\n",
       "      <td>7.0</td>\n",
       "      <td>2.42</td>\n",
       "    </tr>\n",
       "    <tr>\n",
       "      <th>...</th>\n",
       "      <td>...</td>\n",
       "      <td>...</td>\n",
       "      <td>...</td>\n",
       "      <td>...</td>\n",
       "      <td>...</td>\n",
       "      <td>...</td>\n",
       "    </tr>\n",
       "    <tr>\n",
       "      <th>135</th>\n",
       "      <td>Daniel</td>\n",
       "      <td>Brandstätter</td>\n",
       "      <td>informatika a management</td>\n",
       "      <td>4.0</td>\n",
       "      <td>2.0</td>\n",
       "      <td>2.05</td>\n",
       "    </tr>\n",
       "    <tr>\n",
       "      <th>136</th>\n",
       "      <td>Lukáš</td>\n",
       "      <td>Čech</td>\n",
       "      <td>informatika a management</td>\n",
       "      <td>5.0</td>\n",
       "      <td>NaN</td>\n",
       "      <td>1.59</td>\n",
       "    </tr>\n",
       "    <tr>\n",
       "      <th>137</th>\n",
       "      <td>Dagmar</td>\n",
       "      <td>Košanová</td>\n",
       "      <td>teoretická informatika</td>\n",
       "      <td>5.0</td>\n",
       "      <td>10.0</td>\n",
       "      <td>1.34</td>\n",
       "    </tr>\n",
       "    <tr>\n",
       "      <th>138</th>\n",
       "      <td>Ivana</td>\n",
       "      <td>Macháčková</td>\n",
       "      <td>webové inženýrství</td>\n",
       "      <td>1.0</td>\n",
       "      <td>NaN</td>\n",
       "      <td>2.92</td>\n",
       "    </tr>\n",
       "    <tr>\n",
       "      <th>139</th>\n",
       "      <td>Martina</td>\n",
       "      <td>Turková</td>\n",
       "      <td>softwarové inženýrství</td>\n",
       "      <td>5.0</td>\n",
       "      <td>8.0</td>\n",
       "      <td>1.54</td>\n",
       "    </tr>\n",
       "  </tbody>\n",
       "</table>\n",
       "<p>345 rows × 6 columns</p>\n",
       "</div>"
      ],
      "text/plain": [
       "       jméno      příjmení                      obor  ročník  kruh  prospěch\n",
       "0    Ludmila    Šindlerová  informatika a management     4.0  11.0      2.49\n",
       "1        Jan       Pekárek    softwarové inženýrství     1.0   7.0      1.05\n",
       "2      Milan         Weiss        počítačová grafika     5.0  11.0      2.62\n",
       "3     Jiřina       Petrová         správa IT systémů     4.0   1.0      1.15\n",
       "4      Josef      Navrátil        číslicová technika     5.0   7.0      2.42\n",
       "..       ...           ...                       ...     ...   ...       ...\n",
       "135   Daniel  Brandstätter  informatika a management     4.0   2.0      2.05\n",
       "136    Lukáš          Čech  informatika a management     5.0   NaN      1.59\n",
       "137   Dagmar      Košanová    teoretická informatika     5.0  10.0      1.34\n",
       "138    Ivana    Macháčková        webové inženýrství     1.0   NaN      2.92\n",
       "139  Martina       Turková    softwarové inženýrství     5.0   8.0      1.54\n",
       "\n",
       "[345 rows x 6 columns]"
      ]
     },
     "execution_count": 10,
     "metadata": {},
     "output_type": "execute_result"
    }
   ],
   "source": [
    "all = pandas.concat([s1,s2])\n",
    "all"
   ]
  },
  {
   "cell_type": "code",
   "execution_count": 22,
   "metadata": {},
   "outputs": [
    {
     "name": "stdout",
     "output_type": "stream",
     "text": [
      "<class 'pandas.core.frame.DataFrame'>\n",
      "Index: 345 entries, 0 to 139\n",
      "Data columns (total 6 columns):\n",
      " #   Column    Non-Null Count  Dtype  \n",
      "---  ------    --------------  -----  \n",
      " 0   jméno     345 non-null    object \n",
      " 1   příjmení  345 non-null    object \n",
      " 2   obor      345 non-null    object \n",
      " 3   ročník    312 non-null    float64\n",
      " 4   kruh      318 non-null    float64\n",
      " 5   prospěch  345 non-null    float64\n",
      "dtypes: float64(3), object(3)\n",
      "memory usage: 18.9+ KB\n"
     ]
    }
   ],
   "source": [
    "all.info()"
   ]
  },
  {
   "attachments": {},
   "cell_type": "markdown",
   "metadata": {},
   "source": [
    "**b.** Pokud studentovi chybí ročník, znamená to, že již nestuduje. Pokud mu chybí číslo skupiny, znamená to, že jde o dálkového studenta. Kolik studentů v datovém setu již nestuduje a kolik jsou dálkoví studenti?"
   ]
  },
  {
   "cell_type": "code",
   "execution_count": 15,
   "metadata": {},
   "outputs": [
    {
     "data": {
      "text/plain": [
       "(33, 6)"
      ]
     },
     "execution_count": 15,
     "metadata": {},
     "output_type": "execute_result"
    }
   ],
   "source": [
    "all[all[\"ročník\"].isnull()].shape"
   ]
  },
  {
   "attachments": {},
   "cell_type": "markdown",
   "metadata": {},
   "source": [
    "33 studentu jiz nestuduje"
   ]
  },
  {
   "cell_type": "code",
   "execution_count": 16,
   "metadata": {},
   "outputs": [
    {
     "data": {
      "text/plain": [
       "(27, 6)"
      ]
     },
     "execution_count": 16,
     "metadata": {},
     "output_type": "execute_result"
    }
   ],
   "source": [
    "all[all[\"kruh\"].isnull()].shape"
   ]
  },
  {
   "attachments": {},
   "cell_type": "markdown",
   "metadata": {},
   "source": [
    "27 studentu jsou dalkovi studenti"
   ]
  },
  {
   "attachments": {},
   "cell_type": "markdown",
   "metadata": {},
   "source": [
    "**c.** Kolik studentu jsou dalkovi a zaroven nestuduji, aneb chybi jim jak rocnik, tak kruh?"
   ]
  },
  {
   "cell_type": "code",
   "execution_count": 17,
   "metadata": {},
   "outputs": [
    {
     "data": {
      "text/plain": [
       "(2, 6)"
      ]
     },
     "execution_count": 17,
     "metadata": {},
     "output_type": "execute_result"
    }
   ],
   "source": [
    "all[(all[\"ročník\"].isnull()) & (all[\"kruh\"].isnull())].shape"
   ]
  },
  {
   "attachments": {},
   "cell_type": "markdown",
   "metadata": {},
   "source": [
    "2 studenti jsou zaroven dalkovi  a jiz nestuduji"
   ]
  },
  {
   "attachments": {},
   "cell_type": "markdown",
   "metadata": {},
   "source": [
    "**d.** Kolik dalkovych studentu studuje obor číslicová technika?"
   ]
  },
  {
   "cell_type": "code",
   "execution_count": 19,
   "metadata": {},
   "outputs": [
    {
     "data": {
      "text/plain": [
       "(7, 6)"
      ]
     },
     "execution_count": 19,
     "metadata": {},
     "output_type": "execute_result"
    }
   ],
   "source": [
    "all[(all[\"kruh\"].isnull()) & (all[\"obor\"] == \"číslicová technika\")].shape"
   ]
  },
  {
   "attachments": {},
   "cell_type": "markdown",
   "metadata": {},
   "source": [
    "7 studentu jsou dalkovi a zaroven studuji obor číslicová technika"
   ]
  },
  {
   "attachments": {},
   "cell_type": "markdown",
   "metadata": {},
   "source": [
    "**e.** Dále jsem vyčistila data od studentů, kteří nestudují nebo studují jen dálkově. V tabulce jsou nově pouze prezenční studenti."
   ]
  },
  {
   "cell_type": "code",
   "execution_count": 21,
   "metadata": {},
   "outputs": [
    {
     "data": {
      "text/html": [
       "<div>\n",
       "<style scoped>\n",
       "    .dataframe tbody tr th:only-of-type {\n",
       "        vertical-align: middle;\n",
       "    }\n",
       "\n",
       "    .dataframe tbody tr th {\n",
       "        vertical-align: top;\n",
       "    }\n",
       "\n",
       "    .dataframe thead th {\n",
       "        text-align: right;\n",
       "    }\n",
       "</style>\n",
       "<table border=\"1\" class=\"dataframe\">\n",
       "  <thead>\n",
       "    <tr style=\"text-align: right;\">\n",
       "      <th></th>\n",
       "      <th>jméno</th>\n",
       "      <th>příjmení</th>\n",
       "      <th>obor</th>\n",
       "      <th>ročník</th>\n",
       "      <th>kruh</th>\n",
       "      <th>prospěch</th>\n",
       "    </tr>\n",
       "  </thead>\n",
       "  <tbody>\n",
       "    <tr>\n",
       "      <th>0</th>\n",
       "      <td>Ludmila</td>\n",
       "      <td>Šindlerová</td>\n",
       "      <td>informatika a management</td>\n",
       "      <td>4.0</td>\n",
       "      <td>11.0</td>\n",
       "      <td>2.49</td>\n",
       "    </tr>\n",
       "    <tr>\n",
       "      <th>1</th>\n",
       "      <td>Jan</td>\n",
       "      <td>Pekárek</td>\n",
       "      <td>softwarové inženýrství</td>\n",
       "      <td>1.0</td>\n",
       "      <td>7.0</td>\n",
       "      <td>1.05</td>\n",
       "    </tr>\n",
       "    <tr>\n",
       "      <th>2</th>\n",
       "      <td>Milan</td>\n",
       "      <td>Weiss</td>\n",
       "      <td>počítačová grafika</td>\n",
       "      <td>5.0</td>\n",
       "      <td>11.0</td>\n",
       "      <td>2.62</td>\n",
       "    </tr>\n",
       "    <tr>\n",
       "      <th>3</th>\n",
       "      <td>Jiřina</td>\n",
       "      <td>Petrová</td>\n",
       "      <td>správa IT systémů</td>\n",
       "      <td>4.0</td>\n",
       "      <td>1.0</td>\n",
       "      <td>1.15</td>\n",
       "    </tr>\n",
       "    <tr>\n",
       "      <th>4</th>\n",
       "      <td>Josef</td>\n",
       "      <td>Navrátil</td>\n",
       "      <td>číslicová technika</td>\n",
       "      <td>5.0</td>\n",
       "      <td>7.0</td>\n",
       "      <td>2.42</td>\n",
       "    </tr>\n",
       "    <tr>\n",
       "      <th>...</th>\n",
       "      <td>...</td>\n",
       "      <td>...</td>\n",
       "      <td>...</td>\n",
       "      <td>...</td>\n",
       "      <td>...</td>\n",
       "      <td>...</td>\n",
       "    </tr>\n",
       "    <tr>\n",
       "      <th>133</th>\n",
       "      <td>Klára</td>\n",
       "      <td>Valentová</td>\n",
       "      <td>správa IT systémů</td>\n",
       "      <td>1.0</td>\n",
       "      <td>11.0</td>\n",
       "      <td>1.10</td>\n",
       "    </tr>\n",
       "    <tr>\n",
       "      <th>134</th>\n",
       "      <td>Pavla</td>\n",
       "      <td>Veverková</td>\n",
       "      <td>počítačová grafika</td>\n",
       "      <td>4.0</td>\n",
       "      <td>6.0</td>\n",
       "      <td>2.98</td>\n",
       "    </tr>\n",
       "    <tr>\n",
       "      <th>135</th>\n",
       "      <td>Daniel</td>\n",
       "      <td>Brandstätter</td>\n",
       "      <td>informatika a management</td>\n",
       "      <td>4.0</td>\n",
       "      <td>2.0</td>\n",
       "      <td>2.05</td>\n",
       "    </tr>\n",
       "    <tr>\n",
       "      <th>137</th>\n",
       "      <td>Dagmar</td>\n",
       "      <td>Košanová</td>\n",
       "      <td>teoretická informatika</td>\n",
       "      <td>5.0</td>\n",
       "      <td>10.0</td>\n",
       "      <td>1.34</td>\n",
       "    </tr>\n",
       "    <tr>\n",
       "      <th>139</th>\n",
       "      <td>Martina</td>\n",
       "      <td>Turková</td>\n",
       "      <td>softwarové inženýrství</td>\n",
       "      <td>5.0</td>\n",
       "      <td>8.0</td>\n",
       "      <td>1.54</td>\n",
       "    </tr>\n",
       "  </tbody>\n",
       "</table>\n",
       "<p>287 rows × 6 columns</p>\n",
       "</div>"
      ],
      "text/plain": [
       "       jméno      příjmení                      obor  ročník  kruh  prospěch\n",
       "0    Ludmila    Šindlerová  informatika a management     4.0  11.0      2.49\n",
       "1        Jan       Pekárek    softwarové inženýrství     1.0   7.0      1.05\n",
       "2      Milan         Weiss        počítačová grafika     5.0  11.0      2.62\n",
       "3     Jiřina       Petrová         správa IT systémů     4.0   1.0      1.15\n",
       "4      Josef      Navrátil        číslicová technika     5.0   7.0      2.42\n",
       "..       ...           ...                       ...     ...   ...       ...\n",
       "133    Klára     Valentová         správa IT systémů     1.0  11.0      1.10\n",
       "134    Pavla     Veverková        počítačová grafika     4.0   6.0      2.98\n",
       "135   Daniel  Brandstätter  informatika a management     4.0   2.0      2.05\n",
       "137   Dagmar      Košanová    teoretická informatika     5.0  10.0      1.34\n",
       "139  Martina       Turková    softwarové inženýrství     5.0   8.0      1.54\n",
       "\n",
       "[287 rows x 6 columns]"
      ]
     },
     "execution_count": 21,
     "metadata": {},
     "output_type": "execute_result"
    }
   ],
   "source": [
    "aktualni_prezencni_studenti = all.dropna(subset=[\"ročník\", \"kruh\"])\n",
    "aktualni_prezencni_studenti"
   ]
  }
 ],
 "metadata": {
  "kernelspec": {
   "display_name": "Python 3",
   "language": "python",
   "name": "python3"
  },
  "language_info": {
   "codemirror_mode": {
    "name": "ipython",
    "version": 3
   },
   "file_extension": ".py",
   "mimetype": "text/x-python",
   "name": "python",
   "nbconvert_exporter": "python",
   "pygments_lexer": "ipython3",
   "version": "3.9.10"
  },
  "orig_nbformat": 4
 },
 "nbformat": 4,
 "nbformat_minor": 2
}
